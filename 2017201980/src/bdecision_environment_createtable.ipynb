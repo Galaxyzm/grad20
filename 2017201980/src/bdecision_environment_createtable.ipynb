{
 "cells": [
  {
   "cell_type": "code",
   "execution_count": null,
   "metadata": {},
   "outputs": [
    {
     "data": {
      "text/html": [
       "<style  type=\"text/css\" >\n",
       "    #T_5b9e9c60_6142_11eb_a6cb_0a580a19cbbf thead th:first-child::after {\n",
       "          content: \"Spark启动中……\";\n",
       "          color: gray;\n",
       "    }</style><table id=\"T_5b9e9c60_6142_11eb_a6cb_0a580a19cbbf\" ><thead>    <tr>        <th class=\"blank level0\" ></th>        <th class=\"col_heading level0 col0\" >Driver日志</th>        <th class=\"col_heading level0 col1\" >队列信息</th>    </tr></thead><tbody>\n",
       "                <tr>\n",
       "                        <th id=\"T_5b9e9c60_6142_11eb_a6cb_0a580a19cbbflevel0_row0\" class=\"row_heading level0 row0\" ></th>\n",
       "                        <td id=\"T_5b9e9c60_6142_11eb_a6cb_0a580a19cbbfrow0_col0\" class=\"data row0 col0\" ><a href='' data-commandlinker-command=rendermime:handle-local-link data-commandlinker-args={\"path\":\"logs/spark-1611822319.log\",\"id\":\"\"}>/home/sankuai/logs/spark-1611822319.log</a></td>\n",
       "                        <td id=\"T_5b9e9c60_6142_11eb_a6cb_0a580a19cbbfrow0_col1\" class=\"data row0 col1\" ><a href=\"http://data.sankuai.com/mthdpmgr/queue#%7B%22queueName%22%3A%22root.zw02.hadoop-wallepnc.query%22%7D\" target=\"_blank\">root.zw02.hadoop-wallepnc.query</a></td>\n",
       "            </tr>\n",
       "    </tbody></table>"
      ],
      "text/plain": [
       "<pandas.io.formats.style.Styler at 0x7f0e92bf3198>"
      ]
     },
     "metadata": {},
     "output_type": "display_data"
    },
    {
     "data": {
      "application/vnd.meituan.cmdoutput+json": {
       "cmd": [
        "tail",
        "-50",
        "/home/sankuai/logs/spark-1611822319.log"
       ],
       "interval": 2
      },
      "text/plain": [
       "CmdOutput(['tail', '-50', '/home/sankuai/logs/spark-1611822319.log'], 2)"
      ]
     },
     "metadata": {},
     "output_type": "display_data"
    }
   ],
   "source": [
    "%%spark\n",
    "--conf spark.yarn.queue=root.zw02.hadoop-wallepnc.query\n",
    "--conf spark.driver.maxResultSize=4g\n",
    "--conf spark.driver.memory=8g\n",
    "--conf spark.executor.memory=8g\n",
    "--conf spark.executor.cores=2\n",
    "--conf spark.yarn.executor.memoryOverhead=2072\n",
    "--conf spark.dynamicAllocation.enabled=true\n",
    "--conf spark.dynamicAllocation.minExecutors=600\n",
    "--conf spark.dynamicAllocation.maxExecutors=1000\n",
    "--conf spark.sql.shuffle.partitions=6000\n",
    "--conf spark.memory.fraction=0.7\n",
    "--conf spark.sql.autoBroadcastJoinThreshold=1048576000"
   ]
  },
  {
   "cell_type": "code",
   "execution_count": null,
   "metadata": {},
   "outputs": [],
   "source": [
    "%%sql t --preview --quiet\n",
    "SELECT get_json_object(`debug`,'$.planningData.obstacleDecider.decisions') as obstacles,\n",
    "       autocar_name,\n",
    "       timestamp,\n",
    "       frame_id,\n",
    "       `git-branch`,\n",
    "       main_decision,\n",
    "       hour,\n",
    "       record_name,\n",
    "       hdmap_version,\n",
    "       heading,\n",
    "       get_json_object(`debug`,'$.planningData.intention.intentionType') as intention_type,\n",
    "       get_json_object(`debug`,'$.planningData.intention.refL') as ref_l,\n",
    "       is_auto\n",
    "  FROM mart_wallepnc_hulk.detail_planning\n",
    " where  dt='20210114'\n",
    "   and autocar_name = 'zcx-04'\n",
    "    and frame_id % 10 = 0\n",
    "   and get_json_object(`debug`,'$.planningData.obstacleDecider.decisions') is not null\n",
    "   and get_json_object(`debug`,'$.planningData.obstacleDecider.decisions.type') not like '%NO_NUDGE%'"
   ]
  },
  {
   "cell_type": "code",
   "execution_count": null,
   "metadata": {},
   "outputs": [],
   "source": [
    "\n",
    "db = 'mart_wallepnc_hulk'"
   ]
  },
  {
   "cell_type": "code",
   "execution_count": null,
   "metadata": {},
   "outputs": [],
   "source": [
    "%%sql r --preview --quiet\n",
    "\n",
    "create table if not exists {db}.bdecision_environment\n",
    "(\n",
    "    obstacles string comment 'obstacle information',\n",
    "    autocar_name string COMMENT '主车的名字,例：mkz-00',\n",
    "    `timestamp` double COMMENT '时间戳,UNIXtime,单位为s',\n",
    "    `frame_id` bigint COMMENT 'frame sequence',\n",
    "    `git-branch` string COMMENT 'git branch name',\n",
    "     `main_decision` string COMMENT '自车决策：cruise、stop、estop、change_lane、mission_complete、not_ready、parking',\n",
    "    `hour` string COMMENT '两位数24小时制表示小时',\n",
    "    record_name string COMMENT \"record_name\",\n",
    "    `hdmap_version` string COMMENT '高精地图的名字+版本',\n",
    "     `heading` double COMMENT 'heading, 正东方向是0,朝北是正值',\n",
    "    intention_type string comment 'intention',\n",
    "    ref_l double comment 'ref_l',\n",
    "     `is_auto` string COMMENT '是否处于自动驾驶模式,字符串true或false'\n",
    ") comment 'bdecision_environment Demo表' stored as orc"
   ]
  },
  {
   "cell_type": "code",
   "execution_count": null,
   "metadata": {},
   "outputs": [],
   "source": [
    "t.createOrReplaceTempView('my_tmp_view')"
   ]
  },
  {
   "cell_type": "code",
   "execution_count": null,
   "metadata": {},
   "outputs": [],
   "source": [
    "%%sql r --preview --quiet\n",
    "\n",
    "insert into {db}.bdecision_environment\n",
    "select * from my_tmp_view"
   ]
  },
  {
   "cell_type": "code",
   "execution_count": null,
   "metadata": {},
   "outputs": [],
   "source": [
    "%%sql r --preview --quiet\n",
    "select * from {db}.bdecision_environment"
   ]
  }
 ],
 "metadata": {
  "kernelspec": {
   "display_name": "Python 3",
   "language": "python",
   "name": "python3"
  },
  "language_info": {
   "codemirror_mode": {
    "name": "ipython",
    "version": 3
   },
   "file_extension": ".py",
   "mimetype": "text/x-python",
   "name": "python",
   "nbconvert_exporter": "python",
   "pygments_lexer": "ipython3",
   "version": "3.6.10"
  }
 },
 "nbformat": 4,
 "nbformat_minor": 4
}
