{
 "cells": [
  {
   "cell_type": "code",
   "execution_count": null,
   "metadata": {},
   "outputs": [],
   "source": [
    "%%spark\n",
    "--conf spark.yarn.queue=root.zw02.hadoop-wallepnc.query\n",
    "--conf spark.driver.maxResultSize=4g\n",
    "--conf spark.driver.memory=8g\n",
    "--conf spark.executor.memory=8g\n",
    "--conf spark.executor.cores=2\n",
    "--conf spark.yarn.executor.memoryOverhead=2072\n",
    "--conf spark.dynamicAllocation.enabled=true\n",
    "--conf spark.dynamicAllocation.minExecutors=600\n",
    "--conf spark.dynamicAllocation.maxExecutors=1000\n",
    "--conf spark.sql.shuffle.partitions=6000\n",
    "--conf spark.memory.fraction=0.7\n",
    "--conf spark.sql.autoBroadcastJoinThreshold=1048576000"
   ]
  },
  {
   "cell_type": "code",
   "execution_count": null,
   "metadata": {},
   "outputs": [],
   "source": [
    "db = 'mart_wallepnc_hulk'"
   ]
  },
  {
   "cell_type": "code",
   "execution_count": null,
   "metadata": {},
   "outputs": [],
   "source": [
    "%%sql r --preview --quiet\n",
    "SELECT DISTINCT get_json_object(`debug`,'$.planningData.obstacleDecider.decisions[0].type') as obstacles_decision,\n",
    "       get_json_object(`debug`,'$.planningData.obstacleDecider.decisions[0].id') as obstacles_id,\n",
    "       autocar_name,\n",
    "       timestamp,\n",
    "       hour,\n",
    "       `git-branch`,\n",
    "       main_decision,\n",
    "       record_name,\n",
    "        is_auto\n",
    "  FROM mart_wallepnc_hulk.detail_planning\n",
    " where dt='20210114'\n",
    "   and autocar_name = 'zcx-04'\n",
    "   and frame_id % 10 = 0\n",
    "   and get_json_object(`debug`,'$.planningData.obstacleDecider.decisions[0].type') not like 'NO_NUDGE'\n",
    "   and get_json_object(`debug`,'$.planningData.obstacleDecider.decisions[0].sMin') < get_json_object(`debug`,'$.planningData.piecewiseJerkPath[0].pathPoints[0].s')\n",
    "   and get_json_object(`debug`,'$.planningData.obstacleDecider.decisions[0].sMax') > get_json_object(`debug`,'$.planningData.piecewiseJerkPath[0].pathPoints[0].s')\n",
    "   and get_json_object(`debug`,'$.planningData.obstacleDecider.decisions[0]') is not null\n"
   ]
  },
  {
   "cell_type": "code",
   "execution_count": null,
   "metadata": {},
   "outputs": [],
   "source": [
    "%%sql p --preview --quiet\n",
    "\n",
    "create table if not exists {db}.bdecision_decision\n",
    "(\n",
    "    obstacles_decision string comment 'obstacle decision',\n",
    "    obstacles_id string comment 'obstacles_id',\n",
    "    autocar_name string COMMENT '主车的名字,例：mkz-00',\n",
    "    `timestamp` double COMMENT '时间戳,UNIXtime,单位为s',\n",
    "    `hour` string COMMENT '两位数24小时制表示小时',\n",
    "    `git-branch` string COMMENT 'git branch name',\n",
    "     `main_decision` string COMMENT '自车决策：cruise、stop、estop、change_lane、mission_complete、not_ready、parking',\n",
    "    record_name string COMMENT \"record_name\",\n",
    "     `is_auto` string COMMENT '是否处于自动驾驶模式,字符串true或false'\n",
    ") comment 'bdecision_environment Demo表' stored as orc"
   ]
  },
  {
   "cell_type": "code",
   "execution_count": null,
   "metadata": {},
   "outputs": [],
   "source": [
    "r.createOrReplaceTempView('my_tmp_view')"
   ]
  },
  {
   "cell_type": "code",
   "execution_count": null,
   "metadata": {},
   "outputs": [],
   "source": [
    "%%sql p --preview --quiet\n",
    "\n",
    "insert into {db}.bdecision_decision\n",
    "select * from my_tmp_view"
   ]
  },
  {
   "cell_type": "code",
   "execution_count": null,
   "metadata": {},
   "outputs": [],
   "source": [
    "%%sql p --preview --quiet\n",
    "select * from {db}.bdecision_decision"
   ]
  }
 ],
 "metadata": {
  "kernelspec": {
   "display_name": "Python 3",
   "language": "python",
   "name": "python3"
  },
  "language_info": {
   "codemirror_mode": {
    "name": "ipython",
    "version": 3
   },
   "file_extension": ".py",
   "mimetype": "text/x-python",
   "name": "python",
   "nbconvert_exporter": "python",
   "pygments_lexer": "ipython3",
   "version": "3.6.10"
  }
 },
 "nbformat": 4,
 "nbformat_minor": 4
}
